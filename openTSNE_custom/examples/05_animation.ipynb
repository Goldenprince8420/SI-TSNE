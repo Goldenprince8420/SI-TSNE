{
 "cells": [
  {
   "cell_type": "markdown",
   "metadata": {},
   "source": [
    "# t-SNE Animations\n",
    "\n",
    "*openTSNE* includes a callback system, with can be triggered every *n* iterations and can also be used to control optimization and when to stop.\n",
    "\n",
    "In this notebook, we'll look at an example and use callbacks to generate an animation of the optimization. In practice, this serves no real purpose other than being fun to look at."
   ]
  },
  {
   "cell_type": "code",
   "execution_count": 1,
   "metadata": {},
   "outputs": [],
   "source": [
    "import openTSNE\n",
    "from examples import utils\n",
    "\n",
    "import numpy as np\n",
    "import matplotlib.pyplot as plt\n",
    "import matplotlib.animation as animation"
   ]
  },
  {
   "cell_type": "code",
   "execution_count": 2,
   "metadata": {},
   "outputs": [],
   "source": [
    "import gzip\n",
    "import pickle\n",
    "\n",
    "with gzip.open(\"data/macosko_2015.pkl.gz\", \"rb\") as f:\n",
    "    data = pickle.load(f)\n",
    "\n",
    "x = data[\"pca_50\"]\n",
    "y = data[\"CellType1\"].astype(str)"
   ]
  },
  {
   "cell_type": "code",
   "execution_count": 3,
   "metadata": {},
   "outputs": [
    {
     "name": "stdout",
     "output_type": "stream",
     "text": [
      "Data set contains 44808 samples with 50 features\n"
     ]
    }
   ],
   "source": [
    "print(\"Data set contains %d samples with %d features\" % x.shape)"
   ]
  },
  {
   "cell_type": "markdown",
   "metadata": {},
   "source": [
    "We pass a callback that will take the current embedding, make a copy (this is important because the embedding is changed inplace during optimization) and add it to a list. We can also specify how often the callbacks should be called. In this instance, we'll call it at every iteration."
   ]
  },
  {
   "cell_type": "code",
   "execution_count": 4,
   "metadata": {},
   "outputs": [],
   "source": [
    "embeddings = []\n",
    "\n",
    "tsne = openTSNE.TSNE(\n",
    "    perplexity=50, metric=\"cosine\", n_jobs=32, verbose=True,\n",
    "    # The embedding will be appended to the list we defined above, make sure we copy the\n",
    "    # embedding, otherwise the same object reference will be stored for every iteration\n",
    "    callbacks=lambda it, err, emb: embeddings.append(np.array(emb)),\n",
    "    # This should be done on every iteration\n",
    "    callbacks_every_iters=1,\n",
    ")"
   ]
  },
  {
   "cell_type": "code",
   "execution_count": 5,
   "metadata": {},
   "outputs": [
    {
     "name": "stdout",
     "output_type": "stream",
     "text": [
      "--------------------------------------------------------------------------------\n",
      "TSNE(callbacks=<function <lambda> at 0x7f1980309d40>, callbacks_every_iters=1,\n",
      "     metric='cosine', n_jobs=32, perplexity=50, verbose=True)\n",
      "--------------------------------------------------------------------------------\n",
      "===> Finding 150 nearest neighbors using Annoy approximate search using cosine distance...\n",
      "   --> Time elapsed: 11.95 seconds\n",
      "===> Calculating affinity matrix...\n",
      "   --> Time elapsed: 1.28 seconds\n",
      "===> Calculating PCA-based initialization...\n",
      "   --> Time elapsed: 0.18 seconds\n",
      "===> Running optimization with exaggeration=12.00, lr=3734.00 for 250 iterations...\n",
      "Iteration   50, KL divergence 5.6240, 50 iterations in 2.5803 sec\n",
      "Iteration  100, KL divergence 5.0628, 50 iterations in 2.5743 sec\n",
      "Iteration  150, KL divergence 4.9531, 50 iterations in 2.6205 sec\n",
      "Iteration  200, KL divergence 4.9087, 50 iterations in 2.5746 sec\n",
      "Iteration  250, KL divergence 4.8851, 50 iterations in 2.5237 sec\n",
      "   --> Time elapsed: 12.88 seconds\n",
      "===> Running optimization with exaggeration=1.00, lr=3734.00 for 500 iterations...\n",
      "Iteration   50, KL divergence 3.4490, 50 iterations in 2.6531 sec\n",
      "Iteration  100, KL divergence 3.0860, 50 iterations in 2.4883 sec\n",
      "Iteration  150, KL divergence 2.9101, 50 iterations in 2.6124 sec\n",
      "Iteration  200, KL divergence 2.8046, 50 iterations in 2.9374 sec\n",
      "Iteration  250, KL divergence 2.7349, 50 iterations in 3.5985 sec\n",
      "Iteration  300, KL divergence 2.6854, 50 iterations in 4.1135 sec\n",
      "Iteration  350, KL divergence 2.6501, 50 iterations in 4.5806 sec\n",
      "Iteration  400, KL divergence 2.6238, 50 iterations in 5.2910 sec\n",
      "Iteration  450, KL divergence 2.6031, 50 iterations in 5.9040 sec\n",
      "Iteration  500, KL divergence 2.5878, 50 iterations in 6.7577 sec\n",
      "   --> Time elapsed: 40.94 seconds\n",
      "CPU times: user 29min 8s, sys: 1min 10s, total: 30min 19s\n",
      "Wall time: 1min 7s\n"
     ]
    }
   ],
   "source": [
    "%time tsne_embedding = tsne.fit(x)"
   ]
  },
  {
   "cell_type": "markdown",
   "metadata": {},
   "source": [
    "Now that we have all the iterations in our list, we need to create the animation. We do this here using matplotlib, which is relatively straightforward. Generating the animation can take a long time, so we will save it as a gif so we can come back to it whenever we want, without having to wait again."
   ]
  },
  {
   "cell_type": "code",
   "execution_count": 6,
   "metadata": {},
   "outputs": [
    {
     "name": "stdout",
     "output_type": "stream",
     "text": [
      "CPU times: user 8min 10s, sys: 22.3 s, total: 8min 33s\n",
      "Wall time: 8min 4s\n"
     ]
    }
   ],
   "source": [
    "%%time\n",
    "fig, ax = plt.subplots(figsize=(7, 7))\n",
    "ax.set_xticks([]), ax.set_yticks([])\n",
    "\n",
    "colors = list(map(utils.MACOSKO_COLORS.get, y))\n",
    "pathcol = ax.scatter(embeddings[0][:, 0], embeddings[0][:, 1], c=colors, s=1, rasterized=True)\n",
    "\n",
    "def update(embedding, ax, pathcol):\n",
    "    # Update point positions\n",
    "    pathcol.set_offsets(embedding)\n",
    "    \n",
    "    # Adjust x/y limits so all the points are visible\n",
    "    ax.set_xlim(np.min(embedding[:, 0]), np.max(embedding[:, 0]))\n",
    "    ax.set_ylim(np.min(embedding[:, 1]), np.max(embedding[:, 1]))\n",
    "    \n",
    "    return [pathcol]\n",
    "\n",
    "anim = animation.FuncAnimation(\n",
    "    fig, update, fargs=(ax, pathcol), interval=20,\n",
    "    frames=embeddings, blit=True,\n",
    ")\n",
    "\n",
    "anim.save(\"macosko.mp4\", dpi=150, writer=\"ffmpeg\")\n",
    "plt.close()"
   ]
  },
  {
   "cell_type": "code",
   "execution_count": null,
   "metadata": {},
   "outputs": [],
   "source": []
  }
 ],
 "metadata": {
  "kernelspec": {
   "display_name": "Python 3",
   "language": "python",
   "name": "python3"
  },
  "language_info": {
   "codemirror_mode": {
    "name": "ipython",
    "version": 3
   },
   "file_extension": ".py",
   "mimetype": "text/x-python",
   "name": "python",
   "nbconvert_exporter": "python",
   "pygments_lexer": "ipython3",
   "version": "3.7.6"
  }
 },
 "nbformat": 4,
 "nbformat_minor": 4
}
